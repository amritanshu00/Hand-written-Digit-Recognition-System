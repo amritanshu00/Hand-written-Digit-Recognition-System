{
 "cells": [
  {
   "cell_type": "code",
   "execution_count": 1,
   "metadata": {
    "_cell_guid": "b1076dfc-b9ad-4769-8c92-a6c4dae69d19",
    "_uuid": "8f2839f25d086af736a60e9eeb907d3b93b6e0e5"
   },
   "outputs": [
    {
     "name": "stderr",
     "output_type": "stream",
     "text": [
      "Using TensorFlow backend.\n"
     ]
    }
   ],
   "source": [
    "import numpy as np\n",
    "import pandas as pd\n",
    "from keras import layers,models\n",
    "from sklearn.model_selection import train_test_split"
   ]
  },
  {
   "cell_type": "code",
   "execution_count": 2,
   "metadata": {
    "_cell_guid": "79c7e3d0-c299-4dcb-8224-4455121ee9b0",
    "_uuid": "d629ff2d2480ee46fbb7e2d37f6b5fab8052498a"
   },
   "outputs": [],
   "source": [
    "train=pd.read_csv('../input/train.csv')\n",
    "test=pd.read_csv('../input/test.csv')"
   ]
  },
  {
   "cell_type": "code",
   "execution_count": 3,
   "metadata": {},
   "outputs": [],
   "source": [
    "x=train.drop('label',axis=1)\n",
    "x_test=test.copy()\n",
    "x=x/255\n",
    "x_test=x_test/255\n"
   ]
  },
  {
   "cell_type": "code",
   "execution_count": 4,
   "metadata": {},
   "outputs": [],
   "source": [
    "y=train['label']\n",
    "y=pd.Categorical(y)"
   ]
  },
  {
   "cell_type": "code",
   "execution_count": 5,
   "metadata": {},
   "outputs": [],
   "source": [
    "y=pd.get_dummies(y)"
   ]
  },
  {
   "cell_type": "code",
   "execution_count": 6,
   "metadata": {},
   "outputs": [],
   "source": [
    "x_train,x_val,y_train,y_val=train_test_split(x,y,test_size=0.1,random_state=0)"
   ]
  },
  {
   "cell_type": "code",
   "execution_count": 7,
   "metadata": {},
   "outputs": [],
   "source": [
    "x_train=x_train.values\n",
    "y_train=y_train.values\n",
    "x_val=x_val.values\n",
    "y_val=y_val.values\n",
    "x_test=x_test.values"
   ]
  },
  {
   "cell_type": "code",
   "execution_count": 8,
   "metadata": {},
   "outputs": [],
   "source": [
    "x_train=x_train.reshape(37800,28,28,1)\n",
    "x_val=x_val.reshape(4200,28,28,1)\n",
    "x_test=x_test.reshape(28000,28,28,1)"
   ]
  },
  {
   "cell_type": "code",
   "execution_count": 9,
   "metadata": {},
   "outputs": [
    {
     "name": "stdout",
     "output_type": "stream",
     "text": [
      "WARNING:tensorflow:From /opt/conda/lib/python3.6/site-packages/tensorflow/python/framework/op_def_library.py:263: colocate_with (from tensorflow.python.framework.ops) is deprecated and will be removed in a future version.\n",
      "Instructions for updating:\n",
      "Colocations handled automatically by placer.\n",
      "WARNING:tensorflow:From /opt/conda/lib/python3.6/site-packages/keras/backend/tensorflow_backend.py:3445: calling dropout (from tensorflow.python.ops.nn_ops) with keep_prob is deprecated and will be removed in a future version.\n",
      "Instructions for updating:\n",
      "Please use `rate` instead of `keep_prob`. Rate should be set to `rate = 1 - keep_prob`.\n"
     ]
    }
   ],
   "source": [
    "model= models.Sequential()\n",
    "model.add(layers.Conv2D(32,(3,3),activation='relu',input_shape = (28,28,1)))\n",
    "model.add(layers.MaxPooling2D((2,2)))\n",
    "model.add(layers.Conv2D(64,(3,3),activation='relu'))\n",
    "model.add(layers.MaxPooling2D((2,2)))\n",
    "model.add(layers.Conv2D(64,(3,3),activation='relu'))\n",
    "model.add(layers.Dropout(0.25))"
   ]
  },
  {
   "cell_type": "code",
   "execution_count": 10,
   "metadata": {},
   "outputs": [],
   "source": [
    "model.add(layers.Flatten())\n",
    "model.add(layers.Dense(64,activation='relu'))\n",
    "model.add(layers.Dense(10,activation='softmax'))"
   ]
  },
  {
   "cell_type": "code",
   "execution_count": 11,
   "metadata": {},
   "outputs": [
    {
     "name": "stdout",
     "output_type": "stream",
     "text": [
      "_________________________________________________________________\n",
      "Layer (type)                 Output Shape              Param #   \n",
      "=================================================================\n",
      "conv2d_1 (Conv2D)            (None, 26, 26, 32)        320       \n",
      "_________________________________________________________________\n",
      "max_pooling2d_1 (MaxPooling2 (None, 13, 13, 32)        0         \n",
      "_________________________________________________________________\n",
      "conv2d_2 (Conv2D)            (None, 11, 11, 64)        18496     \n",
      "_________________________________________________________________\n",
      "max_pooling2d_2 (MaxPooling2 (None, 5, 5, 64)          0         \n",
      "_________________________________________________________________\n",
      "conv2d_3 (Conv2D)            (None, 3, 3, 64)          36928     \n",
      "_________________________________________________________________\n",
      "dropout_1 (Dropout)          (None, 3, 3, 64)          0         \n",
      "_________________________________________________________________\n",
      "flatten_1 (Flatten)          (None, 576)               0         \n",
      "_________________________________________________________________\n",
      "dense_1 (Dense)              (None, 64)                36928     \n",
      "_________________________________________________________________\n",
      "dense_2 (Dense)              (None, 10)                650       \n",
      "=================================================================\n",
      "Total params: 93,322\n",
      "Trainable params: 93,322\n",
      "Non-trainable params: 0\n",
      "_________________________________________________________________\n"
     ]
    }
   ],
   "source": [
    "model.summary()"
   ]
  },
  {
   "cell_type": "code",
   "execution_count": 12,
   "metadata": {},
   "outputs": [],
   "source": [
    "model.compile(optimizer='rmsprop',loss='categorical_crossentropy',metrics=['accuracy'])"
   ]
  },
  {
   "cell_type": "code",
   "execution_count": 13,
   "metadata": {},
   "outputs": [
    {
     "name": "stdout",
     "output_type": "stream",
     "text": [
      "WARNING:tensorflow:From /opt/conda/lib/python3.6/site-packages/tensorflow/python/ops/math_ops.py:3066: to_int32 (from tensorflow.python.ops.math_ops) is deprecated and will be removed in a future version.\n",
      "Instructions for updating:\n",
      "Use tf.cast instead.\n",
      "Train on 37800 samples, validate on 4200 samples\n",
      "Epoch 1/15\n",
      "37800/37800 [==============================] - 6s 156us/step - loss: 0.2358 - acc: 0.9256 - val_loss: 0.0857 - val_acc: 0.9736\n",
      "Epoch 2/15\n",
      "37800/37800 [==============================] - 4s 105us/step - loss: 0.0671 - acc: 0.9784 - val_loss: 0.0696 - val_acc: 0.9781\n",
      "Epoch 3/15\n",
      "37800/37800 [==============================] - 4s 105us/step - loss: 0.0485 - acc: 0.9847 - val_loss: 0.0527 - val_acc: 0.9826\n",
      "Epoch 4/15\n",
      "37800/37800 [==============================] - 4s 105us/step - loss: 0.0374 - acc: 0.9882 - val_loss: 0.0573 - val_acc: 0.9824\n",
      "Epoch 5/15\n",
      "37800/37800 [==============================] - 4s 106us/step - loss: 0.0316 - acc: 0.9902 - val_loss: 0.0327 - val_acc: 0.9886\n",
      "Epoch 6/15\n",
      "37800/37800 [==============================] - 4s 105us/step - loss: 0.0254 - acc: 0.9924 - val_loss: 0.0460 - val_acc: 0.9876\n",
      "Epoch 7/15\n",
      "37800/37800 [==============================] - 4s 105us/step - loss: 0.0219 - acc: 0.9929 - val_loss: 0.0519 - val_acc: 0.9860\n",
      "Epoch 8/15\n",
      "37800/37800 [==============================] - 4s 105us/step - loss: 0.0207 - acc: 0.9932 - val_loss: 0.0442 - val_acc: 0.9874\n",
      "Epoch 9/15\n",
      "37800/37800 [==============================] - 4s 106us/step - loss: 0.0190 - acc: 0.9940 - val_loss: 0.0382 - val_acc: 0.9907\n",
      "Epoch 10/15\n",
      "37800/37800 [==============================] - 4s 106us/step - loss: 0.0152 - acc: 0.9953 - val_loss: 0.0523 - val_acc: 0.9888\n",
      "Epoch 11/15\n",
      "37800/37800 [==============================] - 4s 106us/step - loss: 0.0138 - acc: 0.9957 - val_loss: 0.0386 - val_acc: 0.9905\n",
      "Epoch 12/15\n",
      "37800/37800 [==============================] - 4s 105us/step - loss: 0.0135 - acc: 0.9957 - val_loss: 0.0463 - val_acc: 0.9905\n",
      "Epoch 13/15\n",
      "37800/37800 [==============================] - 4s 107us/step - loss: 0.0120 - acc: 0.9961 - val_loss: 0.0411 - val_acc: 0.9898\n",
      "Epoch 14/15\n",
      "37800/37800 [==============================] - 4s 106us/step - loss: 0.0113 - acc: 0.9968 - val_loss: 0.0513 - val_acc: 0.9898\n",
      "Epoch 15/15\n",
      "37800/37800 [==============================] - 4s 105us/step - loss: 0.0098 - acc: 0.9970 - val_loss: 0.0498 - val_acc: 0.9907\n"
     ]
    },
    {
     "data": {
      "text/plain": [
       "<keras.callbacks.History at 0x7fb4b98d1358>"
      ]
     },
     "execution_count": 13,
     "metadata": {},
     "output_type": "execute_result"
    }
   ],
   "source": [
    "model.fit(x_train, y_train,\n",
    "          batch_size=64,\n",
    "          epochs=15,\n",
    "          verbose=1,\n",
    "          validation_data=(x_val, y_val))\n"
   ]
  },
  {
   "cell_type": "code",
   "execution_count": 14,
   "metadata": {},
   "outputs": [],
   "source": [
    "sub=pd.read_csv('../input/sample_submission.csv')"
   ]
  },
  {
   "cell_type": "code",
   "execution_count": 15,
   "metadata": {},
   "outputs": [],
   "source": [
    "pred=model.predict(x_test,verbose=0)\n",
    "new_pred = [np.argmax(y, axis=None, out=None) for y in pred]\n",
    "output=pd.DataFrame({'ImageId':sub['ImageId'],'Label':new_pred})\n",
    "output.to_csv('Digit_recognizer.csv', index=False)"
   ]
  }
 ],
 "metadata": {
  "kernelspec": {
   "display_name": "Python 3",
   "language": "python",
   "name": "python3"
  },
  "language_info": {
   "codemirror_mode": {
    "name": "ipython",
    "version": 3
   },
   "file_extension": ".py",
   "mimetype": "text/x-python",
   "name": "python",
   "nbconvert_exporter": "python",
   "pygments_lexer": "ipython3",
   "version": "3.6.4"
  }
 },
 "nbformat": 4,
 "nbformat_minor": 1
}
